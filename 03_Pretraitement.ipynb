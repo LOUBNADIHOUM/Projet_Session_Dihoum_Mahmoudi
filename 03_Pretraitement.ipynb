{
 "cells": [
  {
   "cell_type": "markdown",
   "metadata": {},
   "source": [
    "# Objectif : Nettoyage, transformation, imputation, encodage et export pour modélisation"
   ]
  },
  {
   "cell_type": "code",
   "execution_count": 42,
   "metadata": {},
   "outputs": [],
   "source": [
    "import pandas as pd\n",
    "from sklearn.preprocessing import StandardScaler\n",
    "from sklearn.impute import SimpleImputer\n",
    "from sklearn.preprocessing import LabelEncoder"
   ]
  },
  {
   "cell_type": "markdown",
   "metadata": {},
   "source": [
    "# 1. Chargement des données EDA"
   ]
  },
  {
   "cell_type": "code",
   "execution_count": 43,
   "metadata": {},
   "outputs": [],
   "source": [
    "base = pd.read_csv(\"eda.csv\")"
   ]
  },
  {
   "cell_type": "markdown",
   "metadata": {},
   "source": [
    "# 2. Suppression des colonnes inutiles pour la modélisation"
   ]
  },
  {
   "cell_type": "code",
   "execution_count": 44,
   "metadata": {},
   "outputs": [],
   "source": [
    "colonnes_a_supprimer = [\n",
    "    'reference_web', 'commentaire_indicateur', 'resultats_obtenus_lancement',\n",
    "    'criteres_admissibilite', 'partenaires', 'processus_suivi', 'contexte',\n",
    "    'axe', 'programme', 'resultats_attendus', 'resultats_obtenus_annee',\n",
    "    'action_indicateurs', 'action_actions', 'action_merged',\n",
    "    'source_financement', 'q__ges', 'mesure', 'nom_beneficiaire', 'id_beneficiaire'\n",
    "]\n",
    "base = base.drop(columns=[col for col in colonnes_a_supprimer if col in base.columns])"
   ]
  },
  {
   "cell_type": "markdown",
   "metadata": {},
   "source": [
    "# 3. Traitement des valeurs manquantes"
   ]
  },
  {
   "cell_type": "code",
   "execution_count": 45,
   "metadata": {},
   "outputs": [],
   "source": [
    "base['depense_reelle'] = base['depense_reelle'].fillna(0)\n",
    "base['depense_prevue'] = base['depense_prevue'].fillna(base['depense_prevue'].median())\n",
    "base['cible_indicateur'] = base['cible_indicateur'].fillna(0)\n",
    "base['pourcentage_resultat'] = base['pourcentage_resultat'].fillna(0)\n",
    "base['pourcentage_electrification'] = base['pourcentage_electrification'].fillna(0)"
   ]
  },
  {
   "cell_type": "markdown",
   "metadata": {},
   "source": [
    "# Variables catégorielles : remplissage par \"inconnu\""
   ]
  },
  {
   "cell_type": "code",
   "execution_count": null,
   "metadata": {},
   "outputs": [],
   "source": [
    "vars_cat = ['type_indicateur', 'ministere', 'finalite', 'statut', 'categorie_beneficiaire_action']\n",
    "for col in vars_cat:\n",
    "    if col in base.columns:\n",
    "        base[col] = base[col].fillna(\"inconnu\")"
   ]
  },
  {
   "cell_type": "markdown",
   "metadata": {},
   "source": [
    "# 5. Transformation : pourcentage_electrification en binaire"
   ]
  },
  {
   "cell_type": "code",
   "execution_count": 47,
   "metadata": {},
   "outputs": [],
   "source": [
    "base['electrique'] = base['pourcentage_electrification'].apply(lambda x: 1 if x > 0 else 0)"
   ]
  },
  {
   "cell_type": "markdown",
   "metadata": {},
   "source": [
    "# 6. Création de variables dérivées"
   ]
  },
  {
   "cell_type": "code",
   "execution_count": 48,
   "metadata": {},
   "outputs": [],
   "source": [
    "base[\"ratio_resultat_cible\"] = base[\"pourcentage_resultat\"] / (base[\"cible_indicateur\"] + 1e-6)\n",
    "seuil = base[\"depense_prevue\"].median()\n",
    "base[\"gros_budget\"] = (base[\"depense_prevue\"] > seuil).astype(int)"
   ]
  },
  {
   "cell_type": "markdown",
   "metadata": {},
   "source": [
    "# 7. Encodage des variables catégorielles avec LabelEncoder"
   ]
  },
  {
   "cell_type": "code",
   "execution_count": 49,
   "metadata": {},
   "outputs": [],
   "source": [
    "enc = LabelEncoder()\n",
    "for col in vars_cat:\n",
    "    if col in base.columns:\n",
    "        base[col + \"_libelle\"] = base[col]  # sauvegarde avant encodage\n",
    "        base[col] = enc.fit_transform(base[col])"
   ]
  },
  {
   "cell_type": "markdown",
   "metadata": {},
   "source": [
    "# 8. Normalisation des variables continues"
   ]
  },
  {
   "cell_type": "code",
   "execution_count": 50,
   "metadata": {},
   "outputs": [],
   "source": [
    "scaler = StandardScaler()\n",
    "base[['depense_prevue', 'cible_indicateur', 'pourcentage_resultat', 'ratio_resultat_cible']] = scaler.fit_transform(\n",
    "    base[['depense_prevue', 'cible_indicateur', 'pourcentage_resultat', 'ratio_resultat_cible']]\n",
    ")\n"
   ]
  },
  {
   "cell_type": "markdown",
   "metadata": {},
   "source": [
    "# 9. Création du fichier prêt pour modélisation"
   ]
  },
  {
   "cell_type": "code",
   "execution_count": 51,
   "metadata": {},
   "outputs": [
    {
     "name": "stdout",
     "output_type": "stream",
     "text": [
      "\n",
      "✅ Données prétraitées affinées enregistrées sous pretraitement.csv avec libellés et enrichissements\n"
     ]
    },
    {
     "data": {
      "text/html": [
       "<div>\n",
       "<style scoped>\n",
       "    .dataframe tbody tr th:only-of-type {\n",
       "        vertical-align: middle;\n",
       "    }\n",
       "\n",
       "    .dataframe tbody tr th {\n",
       "        vertical-align: top;\n",
       "    }\n",
       "\n",
       "    .dataframe thead th {\n",
       "        text-align: right;\n",
       "    }\n",
       "</style>\n",
       "<table border=\"1\" class=\"dataframe\">\n",
       "  <thead>\n",
       "    <tr style=\"text-align: right;\">\n",
       "      <th></th>\n",
       "      <th>depense_prevue</th>\n",
       "      <th>cible_indicateur</th>\n",
       "      <th>pourcentage_resultat</th>\n",
       "      <th>ratio_resultat_cible</th>\n",
       "      <th>gros_budget</th>\n",
       "      <th>type_indicateur</th>\n",
       "      <th>ministere</th>\n",
       "      <th>ministere_libelle</th>\n",
       "      <th>finalite</th>\n",
       "      <th>finalite_libelle</th>\n",
       "      <th>statut</th>\n",
       "      <th>statut_libelle</th>\n",
       "      <th>categorie_beneficiaire_action</th>\n",
       "      <th>categorie_beneficiaire_action_libelle</th>\n",
       "      <th>electrique</th>\n",
       "      <th>depassement</th>\n",
       "    </tr>\n",
       "  </thead>\n",
       "  <tbody>\n",
       "    <tr>\n",
       "      <th>0</th>\n",
       "      <td>5.738749</td>\n",
       "      <td>-0.091057</td>\n",
       "      <td>0.496012</td>\n",
       "      <td>-0.359706</td>\n",
       "      <td>1</td>\n",
       "      <td>1</td>\n",
       "      <td>3</td>\n",
       "      <td>MELCCFP</td>\n",
       "      <td>1</td>\n",
       "      <td>Atténuation</td>\n",
       "      <td>0</td>\n",
       "      <td>en cours</td>\n",
       "      <td>2</td>\n",
       "      <td>Citoyens</td>\n",
       "      <td>1</td>\n",
       "      <td>1</td>\n",
       "    </tr>\n",
       "    <tr>\n",
       "      <th>1</th>\n",
       "      <td>4.270889</td>\n",
       "      <td>-0.091057</td>\n",
       "      <td>0.496012</td>\n",
       "      <td>-0.359706</td>\n",
       "      <td>1</td>\n",
       "      <td>1</td>\n",
       "      <td>3</td>\n",
       "      <td>MELCCFP</td>\n",
       "      <td>1</td>\n",
       "      <td>Atténuation</td>\n",
       "      <td>0</td>\n",
       "      <td>en cours</td>\n",
       "      <td>2</td>\n",
       "      <td>Citoyens</td>\n",
       "      <td>1</td>\n",
       "      <td>0</td>\n",
       "    </tr>\n",
       "    <tr>\n",
       "      <th>2</th>\n",
       "      <td>3.149278</td>\n",
       "      <td>-0.091057</td>\n",
       "      <td>0.496012</td>\n",
       "      <td>-0.359706</td>\n",
       "      <td>1</td>\n",
       "      <td>1</td>\n",
       "      <td>3</td>\n",
       "      <td>MELCCFP</td>\n",
       "      <td>1</td>\n",
       "      <td>Atténuation</td>\n",
       "      <td>0</td>\n",
       "      <td>en cours</td>\n",
       "      <td>2</td>\n",
       "      <td>Citoyens</td>\n",
       "      <td>1</td>\n",
       "      <td>0</td>\n",
       "    </tr>\n",
       "    <tr>\n",
       "      <th>3</th>\n",
       "      <td>2.092774</td>\n",
       "      <td>-0.091057</td>\n",
       "      <td>0.496012</td>\n",
       "      <td>-0.359706</td>\n",
       "      <td>1</td>\n",
       "      <td>1</td>\n",
       "      <td>3</td>\n",
       "      <td>MELCCFP</td>\n",
       "      <td>1</td>\n",
       "      <td>Atténuation</td>\n",
       "      <td>0</td>\n",
       "      <td>en cours</td>\n",
       "      <td>2</td>\n",
       "      <td>Citoyens</td>\n",
       "      <td>1</td>\n",
       "      <td>0</td>\n",
       "    </tr>\n",
       "    <tr>\n",
       "      <th>4</th>\n",
       "      <td>2.489333</td>\n",
       "      <td>-0.091057</td>\n",
       "      <td>0.496012</td>\n",
       "      <td>-0.359706</td>\n",
       "      <td>1</td>\n",
       "      <td>1</td>\n",
       "      <td>3</td>\n",
       "      <td>MELCCFP</td>\n",
       "      <td>1</td>\n",
       "      <td>Atténuation</td>\n",
       "      <td>0</td>\n",
       "      <td>en cours</td>\n",
       "      <td>2</td>\n",
       "      <td>Citoyens</td>\n",
       "      <td>1</td>\n",
       "      <td>0</td>\n",
       "    </tr>\n",
       "  </tbody>\n",
       "</table>\n",
       "</div>"
      ],
      "text/plain": [
       "   depense_prevue  cible_indicateur  pourcentage_resultat  \\\n",
       "0        5.738749         -0.091057              0.496012   \n",
       "1        4.270889         -0.091057              0.496012   \n",
       "2        3.149278         -0.091057              0.496012   \n",
       "3        2.092774         -0.091057              0.496012   \n",
       "4        2.489333         -0.091057              0.496012   \n",
       "\n",
       "   ratio_resultat_cible  gros_budget  type_indicateur  ministere  \\\n",
       "0             -0.359706            1                1          3   \n",
       "1             -0.359706            1                1          3   \n",
       "2             -0.359706            1                1          3   \n",
       "3             -0.359706            1                1          3   \n",
       "4             -0.359706            1                1          3   \n",
       "\n",
       "  ministere_libelle  finalite finalite_libelle  statut statut_libelle  \\\n",
       "0           MELCCFP         1      Atténuation       0       en cours   \n",
       "1           MELCCFP         1      Atténuation       0       en cours   \n",
       "2           MELCCFP         1      Atténuation       0       en cours   \n",
       "3           MELCCFP         1      Atténuation       0       en cours   \n",
       "4           MELCCFP         1      Atténuation       0       en cours   \n",
       "\n",
       "   categorie_beneficiaire_action categorie_beneficiaire_action_libelle  \\\n",
       "0                              2                              Citoyens   \n",
       "1                              2                              Citoyens   \n",
       "2                              2                              Citoyens   \n",
       "3                              2                              Citoyens   \n",
       "4                              2                              Citoyens   \n",
       "\n",
       "   electrique  depassement  \n",
       "0           1            1  \n",
       "1           1            0  \n",
       "2           1            0  \n",
       "3           1            0  \n",
       "4           1            0  "
      ]
     },
     "execution_count": 51,
     "metadata": {},
     "output_type": "execute_result"
    }
   ],
   "source": [
    "colonnes_finales = [\n",
    "    'depense_prevue', 'cible_indicateur', 'pourcentage_resultat', 'ratio_resultat_cible',\n",
    "    'gros_budget', 'type_indicateur', 'ministere', 'ministere_libelle',\n",
    "    'finalite', 'finalite_libelle', 'statut', 'statut_libelle',\n",
    "    'categorie_beneficiaire_action', 'categorie_beneficiaire_action_libelle',\n",
    "    'electrique', 'depassement'\n",
    "]\n",
    "df_final = base[colonnes_finales]\n",
    "df_final.to_csv(\"pretraitement.csv\", index=False)\n",
    "\n",
    "print(\"\\n✅ Données prétraitées affinées enregistrées sous pretraitement.csv avec libellés et enrichissements\")\n",
    "df_final.head()\n"
   ]
  }
 ],
 "metadata": {
  "colab": {
   "provenance": []
  },
  "kernelspec": {
   "display_name": "anaconda-ai-2024.04-py310",
   "language": "python",
   "name": "conda-env-anaconda-ai-2024.04-py310-py"
  },
  "language_info": {
   "codemirror_mode": {
    "name": "ipython",
    "version": 3
   },
   "file_extension": ".py",
   "mimetype": "text/x-python",
   "name": "python",
   "nbconvert_exporter": "python",
   "pygments_lexer": "ipython3",
   "version": "3.10.13"
  }
 },
 "nbformat": 4,
 "nbformat_minor": 4
}
