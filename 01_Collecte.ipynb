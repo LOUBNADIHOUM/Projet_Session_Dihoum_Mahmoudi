{
 "cells": [
  {
   "cell_type": "markdown",
   "metadata": {},
   "source": [
    "# Collecte de données"
   ]
  },
  {
   "cell_type": "markdown",
   "metadata": {},
   "source": [
    "## Étape 1 : Importation des bibliothèques"
   ]
  },
  {
   "cell_type": "code",
   "execution_count": 13,
   "metadata": {},
   "outputs": [],
   "source": [
    "import pandas as pd\n"
   ]
  },
  {
   "cell_type": "markdown",
   "metadata": {},
   "source": [
    "##  Étape 2 : Chargement des fichiers CSV"
   ]
  },
  {
   "cell_type": "code",
   "execution_count": 14,
   "metadata": {},
   "outputs": [],
   "source": [
    "df_actions = pd.read_csv(\"1_actions.csv\")\n",
    "df_finances = pd.read_csv(\"2_informations_financieres.csv\")\n",
    "df_beneficiaires = pd.read_csv(\"3_beneficiaires.csv\")\n",
    "df_indicateurs = pd.read_csv(\"6_indicateurs.csv\")"
   ]
  },
  {
   "cell_type": "markdown",
   "metadata": {},
   "source": [
    "## Étape 3 : Harmonisation des clés"
   ]
  },
  {
   "cell_type": "code",
   "execution_count": 15,
   "metadata": {},
   "outputs": [],
   "source": [
    "df_actions['id_action'] = df_actions['id_action'].astype(str)\n",
    "df_finances['id_action'] = df_finances['id_action'].astype(str)\n",
    "df_beneficiaires['id_action'] = df_beneficiaires['id_action'].astype(str)\n",
    "df_indicateurs['id_action'] = df_indicateurs['id_action'].astype(str)"
   ]
  },
  {
   "cell_type": "markdown",
   "metadata": {},
   "source": [
    "## Étape 4 : Fusion des fichiers"
   ]
  },
  {
   "cell_type": "code",
   "execution_count": 16,
   "metadata": {},
   "outputs": [],
   "source": [
    "df_merged = df_finances.merge(df_actions, on='id_action', how='left', suffixes=('_finances', '_actions'))\n",
    "df_merged = df_merged.merge(df_beneficiaires, on='id_action', how='left', suffixes=('_merged', '_beneficiaires'))\n",
    "df_merged = df_merged.merge(df_indicateurs, on='id_action', how='left', suffixes=('_merged', '_indicateurs'))"
   ]
  },
  {
   "cell_type": "markdown",
   "metadata": {},
   "source": [
    "## Étape 5 : Sauvegarde du fichier fusionné"
   ]
  },
  {
   "cell_type": "code",
   "execution_count": 17,
   "metadata": {
    "colab": {
     "base_uri": "https://localhost:8080/",
     "height": 585
    },
    "id": "TLCLHr5-LsMC",
    "outputId": "fd17be0b-4eea-42ff-ddb7-1e41b24ba475"
   },
   "outputs": [
    {
     "name": "stdout",
     "output_type": "stream",
     "text": [
      "Fichier fusionné avec succès. Aperçu :\n"
     ]
    },
    {
     "data": {
      "text/html": [
       "<div>\n",
       "<style scoped>\n",
       "    .dataframe tbody tr th:only-of-type {\n",
       "        vertical-align: middle;\n",
       "    }\n",
       "\n",
       "    .dataframe tbody tr th {\n",
       "        vertical-align: top;\n",
       "    }\n",
       "\n",
       "    .dataframe thead th {\n",
       "        text-align: right;\n",
       "    }\n",
       "</style>\n",
       "<table border=\"1\" class=\"dataframe\">\n",
       "  <thead>\n",
       "    <tr style=\"text-align: right;\">\n",
       "      <th></th>\n",
       "      <th>id_action</th>\n",
       "      <th>action_finances</th>\n",
       "      <th>periode_budgetaire</th>\n",
       "      <th>source_financement</th>\n",
       "      <th>annee_financiere</th>\n",
       "      <th>type_depense</th>\n",
       "      <th>depense</th>\n",
       "      <th>action_actions</th>\n",
       "      <th>programme</th>\n",
       "      <th>finalite</th>\n",
       "      <th>...</th>\n",
       "      <th>id_cible</th>\n",
       "      <th>cible_indicateur</th>\n",
       "      <th>unite_mesure</th>\n",
       "      <th>annee_atteinte_cible</th>\n",
       "      <th>indicateur</th>\n",
       "      <th>type_indicateur</th>\n",
       "      <th>pourcentage_electrification</th>\n",
       "      <th>resultat_comparaison_cible</th>\n",
       "      <th>pourcentage_resultat</th>\n",
       "      <th>commentaire_indicateur</th>\n",
       "    </tr>\n",
       "  </thead>\n",
       "  <tbody>\n",
       "    <tr>\n",
       "      <th>0</th>\n",
       "      <td>1011.0101</td>\n",
       "      <td>1.1.1.1a. Appuyer l'électrification des véhicu...</td>\n",
       "      <td>2023-2028</td>\n",
       "      <td>FECC</td>\n",
       "      <td>2023-2024</td>\n",
       "      <td>dépenses réelles</td>\n",
       "      <td>486717459</td>\n",
       "      <td>1.1.1.1a. Appuyer l'électrification des véhicu...</td>\n",
       "      <td>Roulez vert - Volet véhicules légers</td>\n",
       "      <td>Atténuation</td>\n",
       "      <td>...</td>\n",
       "      <td>3281.0</td>\n",
       "      <td>236000.0</td>\n",
       "      <td>t éq. CO2</td>\n",
       "      <td>2025.0</td>\n",
       "      <td>Tonnes équivalentes de CO2 d'émissions de gaz ...</td>\n",
       "      <td>Indicateur d’effets</td>\n",
       "      <td>1.0</td>\n",
       "      <td>216510.0</td>\n",
       "      <td>0.917415</td>\n",
       "      <td>NaN</td>\n",
       "    </tr>\n",
       "    <tr>\n",
       "      <th>1</th>\n",
       "      <td>1011.0101</td>\n",
       "      <td>1.1.1.1a. Appuyer l'électrification des véhicu...</td>\n",
       "      <td>2023-2028</td>\n",
       "      <td>FECC</td>\n",
       "      <td>2023-2024</td>\n",
       "      <td>dépenses réelles</td>\n",
       "      <td>486717459</td>\n",
       "      <td>1.1.1.1a. Appuyer l'électrification des véhicu...</td>\n",
       "      <td>Roulez vert - Volet véhicules légers</td>\n",
       "      <td>Atténuation</td>\n",
       "      <td>...</td>\n",
       "      <td>3282.0</td>\n",
       "      <td>2127000.0</td>\n",
       "      <td>t éq. CO2</td>\n",
       "      <td>2030.0</td>\n",
       "      <td>Tonnes équivalentes de CO2 d'émissions de gaz ...</td>\n",
       "      <td>Indicateur d’effets</td>\n",
       "      <td>1.0</td>\n",
       "      <td>216510.0</td>\n",
       "      <td>0.101791</td>\n",
       "      <td>NaN</td>\n",
       "    </tr>\n",
       "    <tr>\n",
       "      <th>2</th>\n",
       "      <td>1011.0101</td>\n",
       "      <td>1.1.1.1a. Appuyer l'électrification des véhicu...</td>\n",
       "      <td>2023-2028</td>\n",
       "      <td>FECC</td>\n",
       "      <td>2023-2024</td>\n",
       "      <td>dépenses réelles</td>\n",
       "      <td>486717459</td>\n",
       "      <td>1.1.1.1a. Appuyer l'électrification des véhicu...</td>\n",
       "      <td>Roulez vert - Volet véhicules légers</td>\n",
       "      <td>Atténuation</td>\n",
       "      <td>...</td>\n",
       "      <td>744.0</td>\n",
       "      <td>191000.0</td>\n",
       "      <td>véhicules et motocyclettes</td>\n",
       "      <td>2025.0</td>\n",
       "      <td>Véhicules et motocyclettes, neufs et d'occasion</td>\n",
       "      <td>Indicateur d’extrants</td>\n",
       "      <td>1.0</td>\n",
       "      <td>140197.0</td>\n",
       "      <td>0.734016</td>\n",
       "      <td>NaN</td>\n",
       "    </tr>\n",
       "    <tr>\n",
       "      <th>3</th>\n",
       "      <td>1011.0101</td>\n",
       "      <td>1.1.1.1a. Appuyer l'électrification des véhicu...</td>\n",
       "      <td>2023-2028</td>\n",
       "      <td>FECC</td>\n",
       "      <td>2023-2024</td>\n",
       "      <td>dépenses réelles</td>\n",
       "      <td>486717459</td>\n",
       "      <td>1.1.1.1a. Appuyer l'électrification des véhicu...</td>\n",
       "      <td>Roulez vert - Volet véhicules légers</td>\n",
       "      <td>Atténuation</td>\n",
       "      <td>...</td>\n",
       "      <td>745.0</td>\n",
       "      <td>345000.0</td>\n",
       "      <td>véhicules et motocyclettes</td>\n",
       "      <td>2027.0</td>\n",
       "      <td>Véhicules et motocyclettes, neufs et d'occasion</td>\n",
       "      <td>Indicateur d’extrants</td>\n",
       "      <td>1.0</td>\n",
       "      <td>140197.0</td>\n",
       "      <td>0.406368</td>\n",
       "      <td>NaN</td>\n",
       "    </tr>\n",
       "    <tr>\n",
       "      <th>4</th>\n",
       "      <td>1011.0101</td>\n",
       "      <td>1.1.1.1a. Appuyer l'électrification des véhicu...</td>\n",
       "      <td>2023-2028</td>\n",
       "      <td>FECC</td>\n",
       "      <td>2023-2024</td>\n",
       "      <td>dépenses réelles</td>\n",
       "      <td>486717459</td>\n",
       "      <td>1.1.1.1a. Appuyer l'électrification des véhicu...</td>\n",
       "      <td>Roulez vert - Volet véhicules légers</td>\n",
       "      <td>Atténuation</td>\n",
       "      <td>...</td>\n",
       "      <td>3281.0</td>\n",
       "      <td>236000.0</td>\n",
       "      <td>t éq. CO2</td>\n",
       "      <td>2025.0</td>\n",
       "      <td>Tonnes équivalentes de CO2 d'émissions de gaz ...</td>\n",
       "      <td>Indicateur d’effets</td>\n",
       "      <td>1.0</td>\n",
       "      <td>216510.0</td>\n",
       "      <td>0.917415</td>\n",
       "      <td>NaN</td>\n",
       "    </tr>\n",
       "  </tbody>\n",
       "</table>\n",
       "<p>5 rows × 40 columns</p>\n",
       "</div>"
      ],
      "text/plain": [
       "   id_action                                    action_finances  \\\n",
       "0  1011.0101  1.1.1.1a. Appuyer l'électrification des véhicu...   \n",
       "1  1011.0101  1.1.1.1a. Appuyer l'électrification des véhicu...   \n",
       "2  1011.0101  1.1.1.1a. Appuyer l'électrification des véhicu...   \n",
       "3  1011.0101  1.1.1.1a. Appuyer l'électrification des véhicu...   \n",
       "4  1011.0101  1.1.1.1a. Appuyer l'électrification des véhicu...   \n",
       "\n",
       "  periode_budgetaire source_financement annee_financiere      type_depense  \\\n",
       "0          2023-2028               FECC        2023-2024  dépenses réelles   \n",
       "1          2023-2028               FECC        2023-2024  dépenses réelles   \n",
       "2          2023-2028               FECC        2023-2024  dépenses réelles   \n",
       "3          2023-2028               FECC        2023-2024  dépenses réelles   \n",
       "4          2023-2028               FECC        2023-2024  dépenses réelles   \n",
       "\n",
       "     depense                                     action_actions  \\\n",
       "0  486717459  1.1.1.1a. Appuyer l'électrification des véhicu...   \n",
       "1  486717459  1.1.1.1a. Appuyer l'électrification des véhicu...   \n",
       "2  486717459  1.1.1.1a. Appuyer l'électrification des véhicu...   \n",
       "3  486717459  1.1.1.1a. Appuyer l'électrification des véhicu...   \n",
       "4  486717459  1.1.1.1a. Appuyer l'électrification des véhicu...   \n",
       "\n",
       "                              programme     finalite  ... id_cible  \\\n",
       "0  Roulez vert - Volet véhicules légers  Atténuation  ...   3281.0   \n",
       "1  Roulez vert - Volet véhicules légers  Atténuation  ...   3282.0   \n",
       "2  Roulez vert - Volet véhicules légers  Atténuation  ...    744.0   \n",
       "3  Roulez vert - Volet véhicules légers  Atténuation  ...    745.0   \n",
       "4  Roulez vert - Volet véhicules légers  Atténuation  ...   3281.0   \n",
       "\n",
       "  cible_indicateur                unite_mesure annee_atteinte_cible  \\\n",
       "0         236000.0                   t éq. CO2               2025.0   \n",
       "1        2127000.0                   t éq. CO2               2030.0   \n",
       "2         191000.0  véhicules et motocyclettes               2025.0   \n",
       "3         345000.0  véhicules et motocyclettes               2027.0   \n",
       "4         236000.0                   t éq. CO2               2025.0   \n",
       "\n",
       "                                          indicateur        type_indicateur  \\\n",
       "0  Tonnes équivalentes de CO2 d'émissions de gaz ...    Indicateur d’effets   \n",
       "1  Tonnes équivalentes de CO2 d'émissions de gaz ...    Indicateur d’effets   \n",
       "2    Véhicules et motocyclettes, neufs et d'occasion  Indicateur d’extrants   \n",
       "3    Véhicules et motocyclettes, neufs et d'occasion  Indicateur d’extrants   \n",
       "4  Tonnes équivalentes de CO2 d'émissions de gaz ...    Indicateur d’effets   \n",
       "\n",
       "  pourcentage_electrification resultat_comparaison_cible pourcentage_resultat  \\\n",
       "0                         1.0                   216510.0             0.917415   \n",
       "1                         1.0                   216510.0             0.101791   \n",
       "2                         1.0                   140197.0             0.734016   \n",
       "3                         1.0                   140197.0             0.406368   \n",
       "4                         1.0                   216510.0             0.917415   \n",
       "\n",
       "  commentaire_indicateur  \n",
       "0                    NaN  \n",
       "1                    NaN  \n",
       "2                    NaN  \n",
       "3                    NaN  \n",
       "4                    NaN  \n",
       "\n",
       "[5 rows x 40 columns]"
      ]
     },
     "execution_count": 17,
     "metadata": {},
     "output_type": "execute_result"
    }
   ],
   "source": [
    "df_merged.to_csv(\"base.csv\", index=False)\n",
    "\n",
    "# Aperçu\n",
    "print(\"Fichier fusionné avec succès. Aperçu :\")\n",
    "df_merged.head()"
   ]
  }
 ],
 "metadata": {
  "colab": {
   "provenance": []
  },
  "kernelspec": {
   "display_name": "anaconda-ai-2024.04-py310",
   "language": "python",
   "name": "conda-env-anaconda-ai-2024.04-py310-py"
  },
  "language_info": {
   "codemirror_mode": {
    "name": "ipython",
    "version": 3
   },
   "file_extension": ".py",
   "mimetype": "text/x-python",
   "name": "python",
   "nbconvert_exporter": "python",
   "pygments_lexer": "ipython3",
   "version": "3.10.13"
  }
 },
 "nbformat": 4,
 "nbformat_minor": 4
}
