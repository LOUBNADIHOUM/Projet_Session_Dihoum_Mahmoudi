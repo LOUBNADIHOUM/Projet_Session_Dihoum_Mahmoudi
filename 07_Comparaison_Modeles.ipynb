{
 "cells": [
  {
   "cell_type": "markdown",
   "metadata": {
    "colab": {
     "base_uri": "https://localhost:8080/",
     "height": 666
    },
    "id": "p9U5Xt01rzTv",
    "outputId": "c80c41e1-891f-4295-bcdb-e6ca5079b053"
   },
   "source": [
    "# Objectif : Comparer les performances des 3 modèles sur la classification du dépassement"
   ]
  },
  {
   "cell_type": "code",
   "execution_count": 1,
   "metadata": {
    "colab": {
     "base_uri": "https://localhost:8080/",
     "height": 666
    },
    "id": "p9U5Xt01rzTv",
    "outputId": "c80c41e1-891f-4295-bcdb-e6ca5079b053"
   },
   "outputs": [],
   "source": [
    "import pandas as pd\n",
    "import matplotlib.pyplot as plt\n",
    "import seaborn as sns"
   ]
  },
  {
   "cell_type": "markdown",
   "metadata": {
    "colab": {
     "base_uri": "https://localhost:8080/",
     "height": 666
    },
    "id": "p9U5Xt01rzTv",
    "outputId": "c80c41e1-891f-4295-bcdb-e6ca5079b053"
   },
   "source": [
    "## 1. Chargement des résultats"
   ]
  },
  {
   "cell_type": "code",
   "execution_count": 2,
   "metadata": {
    "colab": {
     "base_uri": "https://localhost:8080/",
     "height": 666
    },
    "id": "p9U5Xt01rzTv",
    "outputId": "c80c41e1-891f-4295-bcdb-e6ca5079b053"
   },
   "outputs": [],
   "source": [
    "knn = pd.read_csv(\"resultats_knn.csv\", index_col=0)\n",
    "tree = pd.read_csv(\"resultats_decisiontree.csv\", index_col=0)\n",
    "bayes = pd.read_csv(\"resultats_naivebayes.csv\", index_col=0)"
   ]
  },
  {
   "cell_type": "markdown",
   "metadata": {
    "colab": {
     "base_uri": "https://localhost:8080/",
     "height": 666
    },
    "id": "p9U5Xt01rzTv",
    "outputId": "c80c41e1-891f-4295-bcdb-e6ca5079b053"
   },
   "source": [
    "## 2. Extraction des métriques de la classe \"1\" (dépassement)"
   ]
  },
  {
   "cell_type": "code",
   "execution_count": 3,
   "metadata": {
    "colab": {
     "base_uri": "https://localhost:8080/",
     "height": 666
    },
    "id": "p9U5Xt01rzTv",
    "outputId": "c80c41e1-891f-4295-bcdb-e6ca5079b053"
   },
   "outputs": [],
   "source": [
    "df_compare = pd.DataFrame({\n",
    "    \"k-NN\": knn.loc[\"1\"],\n",
    "    \"Decision Tree\": tree.loc[\"1\"],\n",
    "    \"Naive Bayes\": bayes.loc[\"1\"]\n",
    "}).T"
   ]
  },
  {
   "cell_type": "markdown",
   "metadata": {
    "colab": {
     "base_uri": "https://localhost:8080/",
     "height": 666
    },
    "id": "p9U5Xt01rzTv",
    "outputId": "c80c41e1-891f-4295-bcdb-e6ca5079b053"
   },
   "source": [
    "## 3. Affichage des F1-score, recall, precision"
   ]
  },
  {
   "cell_type": "code",
   "execution_count": 4,
   "metadata": {
    "colab": {
     "base_uri": "https://localhost:8080/",
     "height": 666
    },
    "id": "p9U5Xt01rzTv",
    "outputId": "c80c41e1-891f-4295-bcdb-e6ca5079b053"
   },
   "outputs": [
    {
     "data": {
      "text/plain": [
       "<Figure size 800x500 with 0 Axes>"
      ]
     },
     "metadata": {},
     "output_type": "display_data"
    },
    {
     "data": {
      "image/png": "[encoded data removed]",
      "text/plain": [
       "<Figure size 640x480 with 1 Axes>"
      ]
     },
     "metadata": {},
     "output_type": "display_data"
    }
   ],
   "source": [
    "metrics = [\"precision\", \"recall\", \"f1-score\"]\n",
    "plt.figure(figsize=(8, 5))\n",
    "df_compare[metrics].plot(kind=\"bar\")\n",
    "plt.title(\"Comparaison des modèles sur la classe 1 (dépassement)\")\n",
    "plt.ylabel(\"Score\")\n",
    "plt.xticks(rotation=0)\n",
    "plt.ylim(0, 1)\n",
    "plt.legend(loc=\"lower right\")\n",
    "plt.grid(axis='y')\n",
    "plt.tight_layout()\n",
    "plt.show()"
   ]
  },
  {
   "cell_type": "markdown",
   "metadata": {
    "colab": {
     "base_uri": "https://localhost:8080/",
     "height": 666
    },
    "id": "p9U5Xt01rzTv",
    "outputId": "c80c41e1-891f-4295-bcdb-e6ca5079b053"
   },
   "source": [
    "## 4. Impression du tableau résumé"
   ]
  },
  {
   "cell_type": "code",
   "execution_count": 5,
   "metadata": {
    "colab": {
     "base_uri": "https://localhost:8080/",
     "height": 666
    },
    "id": "p9U5Xt01rzTv",
    "outputId": "c80c41e1-891f-4295-bcdb-e6ca5079b053"
   },
   "outputs": [
    {
     "name": "stdout",
     "output_type": "stream",
     "text": [
      "\n",
      "📋 Récapitulatif des performances sur la classe 'dépassement' :\n"
     ]
    },
    {
     "data": {
      "text/html": [
       "<div>\n",
       "<style scoped>\n",
       "    .dataframe tbody tr th:only-of-type {\n",
       "        vertical-align: middle;\n",
       "    }\n",
       "\n",
       "    .dataframe tbody tr th {\n",
       "        vertical-align: top;\n",
       "    }\n",
       "\n",
       "    .dataframe thead th {\n",
       "        text-align: right;\n",
       "    }\n",
       "</style>\n",
       "<table border=\"1\" class=\"dataframe\">\n",
       "  <thead>\n",
       "    <tr style=\"text-align: right;\">\n",
       "      <th></th>\n",
       "      <th>precision</th>\n",
       "      <th>recall</th>\n",
       "      <th>f1-score</th>\n",
       "    </tr>\n",
       "  </thead>\n",
       "  <tbody>\n",
       "    <tr>\n",
       "      <th>k-NN</th>\n",
       "      <td>0.000</td>\n",
       "      <td>0.000</td>\n",
       "      <td>0.000</td>\n",
       "    </tr>\n",
       "    <tr>\n",
       "      <th>Decision Tree</th>\n",
       "      <td>0.083</td>\n",
       "      <td>0.111</td>\n",
       "      <td>0.095</td>\n",
       "    </tr>\n",
       "    <tr>\n",
       "      <th>Naive Bayes</th>\n",
       "      <td>0.043</td>\n",
       "      <td>0.778</td>\n",
       "      <td>0.081</td>\n",
       "    </tr>\n",
       "  </tbody>\n",
       "</table>\n",
       "</div>"
      ],
      "text/plain": [
       "               precision  recall  f1-score\n",
       "k-NN               0.000   0.000     0.000\n",
       "Decision Tree      0.083   0.111     0.095\n",
       "Naive Bayes        0.043   0.778     0.081"
      ]
     },
     "metadata": {},
     "output_type": "display_data"
    }
   ],
   "source": [
    "print(\"\\n📋 Récapitulatif des performances sur la classe 'dépassement' :\")\n",
    "display(df_compare[metrics].round(3))"
   ]
  }
 ],
 "metadata": {
  "colab": {
   "provenance": []
  },
  "kernelspec": {
   "display_name": "anaconda-2024.02-py310",
   "language": "python",
   "name": "conda-env-anaconda-2024.02-py310-py"
  },
  "language_info": {
   "codemirror_mode": {
    "name": "ipython",
    "version": 3
   },
   "file_extension": ".py",
   "mimetype": "text/x-python",
   "name": "python",
   "nbconvert_exporter": "python",
   "pygments_lexer": "ipython3",
   "version": "3.10.14"
  }
 },
 "nbformat": 4,
 "nbformat_minor": 4
}
